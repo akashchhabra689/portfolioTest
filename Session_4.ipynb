{
  "nbformat": 4,
  "nbformat_minor": 0,
  "metadata": {
    "colab": {
      "provenance": [],
      "authorship_tag": "ABX9TyPqtXKTImTsBvqLPUeP3eAq",
      "include_colab_link": true
    },
    "kernelspec": {
      "name": "python3",
      "display_name": "Python 3"
    },
    "language_info": {
      "name": "python"
    }
  },
  "cells": [
    {
      "cell_type": "markdown",
      "metadata": {
        "id": "view-in-github",
        "colab_type": "text"
      },
      "source": [
        "<a href=\"https://colab.research.google.com/github/akashchhabra689/portfolioTest/blob/main/Session_4.ipynb\" target=\"_parent\"><img src=\"https://colab.research.google.com/assets/colab-badge.svg\" alt=\"Open In Colab\"/></a>"
      ]
    },
    {
      "cell_type": "code",
      "execution_count": 3,
      "metadata": {
        "colab": {
          "base_uri": "https://localhost:8080/"
        },
        "id": "K8Au6N0a_Rkb",
        "outputId": "cdeac336-b865-43e0-ab29-aede970387fe"
      },
      "outputs": [
        {
          "output_type": "stream",
          "name": "stdout",
          "text": [
            "Enter your age: 18\n",
            "18\n"
          ]
        }
      ],
      "source": [
        "age = int(input(\"Enter your age: \"))\n",
        "print(age)"
      ]
    },
    {
      "cell_type": "code",
      "source": [
        "#conditional statement\n",
        "# I want the age from the user\n",
        "# check to see if they can drive or not\n",
        "age = int(input(\"Enter your age: \"))\n",
        "if age>=16:\n",
        "  print(\"You can drive!\")\n",
        "else:\n",
        "  print(\"You cannot drive!\")"
      ],
      "metadata": {
        "colab": {
          "base_uri": "https://localhost:8080/"
        },
        "id": "XtMKtkzmA6WQ",
        "outputId": "19c67800-1931-4034-8b62-6bd648818f8f"
      },
      "execution_count": 6,
      "outputs": [
        {
          "output_type": "stream",
          "name": "stdout",
          "text": [
            "Enter your age: 15\n",
            "You cannot drive!\n"
          ]
        }
      ]
    },
    {
      "cell_type": "code",
      "source": [
        "# get two number from user and print the greater number\n",
        "first_num = int(input(\"Enter first number: \"))\n",
        "second_num = int(input(\"Enter second number: \"))\n",
        "if first_num>second_num:\n",
        "  print(first_num, \"is larger\")\n",
        "else:\n",
        "  print(second_num, \"is larger\")"
      ],
      "metadata": {
        "colab": {
          "base_uri": "https://localhost:8080/"
        },
        "id": "YVLB3QArCQ9x",
        "outputId": "57696265-7d46-4e31-dee6-08e0aa88b5a6"
      },
      "execution_count": 11,
      "outputs": [
        {
          "output_type": "stream",
          "name": "stdout",
          "text": [
            "Enter first number: 69\n",
            "Enter second number: 20\n",
            "69 is larger\n"
          ]
        }
      ]
    },
    {
      "cell_type": "code",
      "source": [
        "a = int(input(\"Enter a number: \"))\n",
        "if a >0:\n",
        "  print(\"positive\")\n",
        "elif a<0:\n",
        "  print(\"negative\")\n",
        "else:\n",
        "  print(\"zero\")"
      ],
      "metadata": {
        "colab": {
          "base_uri": "https://localhost:8080/"
        },
        "id": "ynByGEQ3Dt5n",
        "outputId": "c3803a43-a4a5-4e58-dca9-ecb6e91b06c4"
      },
      "execution_count": 16,
      "outputs": [
        {
          "output_type": "stream",
          "name": "stdout",
          "text": [
            "Enter a number: 10\n",
            "positive\n"
          ]
        }
      ]
    },
    {
      "cell_type": "code",
      "source": [
        "# get 3 grades from the user and append them to an empty list\n",
        "#calculate the average\n",
        "#then check if the average is over 60, you pass\n",
        "#else print you failed\n",
        "grades = []\n",
        "grades.append(int(input(\"enter grade 1:\")))\n",
        "grades.append(int(input(\"enter grade 2:\")))\n",
        "grades.append(int(input(\"enter grade 3:\")))\n",
        "average = (sum(grades)/len(grades))\n",
        "if average > 60:\n",
        "  print(\"you pass\")\n",
        "else:\n",
        "  print(\"you fail\")"
      ],
      "metadata": {
        "colab": {
          "base_uri": "https://localhost:8080/"
        },
        "id": "iwMf6WwtFWp9",
        "outputId": "e5281970-e64d-4ca3-9e14-c128c98b6148"
      },
      "execution_count": 22,
      "outputs": [
        {
          "output_type": "stream",
          "name": "stdout",
          "text": [
            "enter grade 1:10\n",
            "enter grade 2:20\n",
            "enter grade 3:30\n",
            "you fail\n"
          ]
        }
      ]
    },
    {
      "cell_type": "code",
      "source": [
        "#print letter grade from user\n",
        "ave=int(input(\"enter grade average: \"))\n",
        "if 90<=ave<=100:\n",
        "  print(\"A\")\n",
        "elif 80<=ave<=89:\n",
        "  print(\"B\")\n",
        "elif 70<=ave<=79:\n",
        "  print(\"C\")\n",
        "elif 60<=ave<=69:\n",
        "  print(\"D\")\n",
        "else:\n",
        "  print(\"F\")"
      ],
      "metadata": {
        "colab": {
          "base_uri": "https://localhost:8080/"
        },
        "id": "5x47zxHJJAnY",
        "outputId": "4aa82a26-3033-49d3-9766-9cfa5d832106"
      },
      "execution_count": 25,
      "outputs": [
        {
          "output_type": "stream",
          "name": "stdout",
          "text": [
            "enter grade average: 74\n",
            "C\n"
          ]
        }
      ]
    },
    {
      "cell_type": "code",
      "source": [
        "grades = []\n",
        "grades.append(int(input(\"enter grade 1:\")))\n",
        "grades.append(int(input(\"enter grade 2:\")))\n",
        "grades.append(int(input(\"enter grade 3:\")))\n",
        "ave = (sum(grades)/len(grades))\n",
        "\n",
        "if 90<=ave<=100:\n",
        "  print(\"A\")\n",
        "elif 80<=ave<=89:\n",
        "  print(\"B\")\n",
        "elif 70<=ave<=79:\n",
        "  print(\"C\")\n",
        "elif 60<=ave<=69:\n",
        "  print(\"D\")\n",
        "else:\n",
        "  print(\"F\")"
      ],
      "metadata": {
        "colab": {
          "base_uri": "https://localhost:8080/"
        },
        "id": "-fpjCJ2VMZ78",
        "outputId": "1f6751b6-b5a2-4380-b189-05a51ddc63bb"
      },
      "execution_count": 27,
      "outputs": [
        {
          "output_type": "stream",
          "name": "stdout",
          "text": [
            "enter grade 1:70\n",
            "enter grade 2:80\n",
            "enter grade 3:50\n",
            "D\n"
          ]
        }
      ]
    }
  ]
}